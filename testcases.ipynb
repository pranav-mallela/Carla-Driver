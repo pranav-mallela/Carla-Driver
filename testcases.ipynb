{
 "cells": [
  {
   "cell_type": "code",
   "execution_count": 1,
   "metadata": {},
   "outputs": [],
   "source": [
    "import carla\n",
    "import math\n",
    "import random\n",
    "import time"
   ]
  },
  {
   "cell_type": "code",
   "execution_count": 2,
   "metadata": {},
   "outputs": [],
   "source": [
    "client = carla.Client('localhost', 2000)\n",
    "world = client.get_world()\n",
    "world_map = world.get_map()"
   ]
  },
  {
   "cell_type": "code",
   "execution_count": 3,
   "metadata": {},
   "outputs": [],
   "source": [
    "# Get the blueprint of a black car \n",
    "blueprint_library = world.get_blueprint_library()\n",
    "vehicle_bp = random.choice(blueprint_library.filter('vehicle.toyota.prius'))\n",
    "vehicle_bp.set_attribute('color', '0,0,0')"
   ]
  },
  {
   "cell_type": "code",
   "execution_count": 4,
   "metadata": {},
   "outputs": [],
   "source": [
    "# Spawn Prius at given location\n",
    "spawn_point = carla.Transform(\n",
    "    carla.Location(x=-58.468666, y=188.412048, z=0.06),#, 7.642653\n",
    "    carla.Rotation(yaw=-90)\n",
    ")\n",
    "prius_bp = blueprint_library.find('vehicle.toyota.prius')\n",
    "vehicle = world.spawn_actor(prius_bp, spawn_point)\n",
    "vehicle.set_simulate_physics(True)  # Ensure physics is enabled"
   ]
  },
  {
   "cell_type": "code",
   "execution_count": 5,
   "metadata": {},
   "outputs": [
    {
     "name": "stdout",
     "output_type": "stream",
     "text": [
      "Destroyed 1 existing Prius vehicles.\n"
     ]
    }
   ],
   "source": [
    "# Destroy existing Prius vehicles\n",
    "def destroy_existing_priuses():\n",
    "    actors = world.get_actors().filter('vehicle.toyota.prius')\n",
    "    for actor in actors:\n",
    "        actor.destroy()\n",
    "    print(f\"Destroyed {len(actors)} existing Prius vehicles.\")\n",
    "\n",
    "destroy_existing_priuses()"
   ]
  },
  {
   "cell_type": "code",
   "execution_count": 6,
   "metadata": {},
   "outputs": [
    {
     "ename": "RuntimeError",
     "evalue": "Spawn failed because of collision at spawn position",
     "output_type": "error",
     "traceback": [
      "\u001b[1;31m---------------------------------------------------------------------------\u001b[0m",
      "\u001b[1;31mRuntimeError\u001b[0m                              Traceback (most recent call last)",
      "Cell \u001b[1;32mIn[6], line 31\u001b[0m\n\u001b[0;32m     29\u001b[0m \u001b[38;5;28;01mfor\u001b[39;00m sp \u001b[38;5;129;01min\u001b[39;00m spawn_points_sl:\n\u001b[0;32m     30\u001b[0m     vehicle_bp \u001b[38;5;241m=\u001b[39m random\u001b[38;5;241m.\u001b[39mchoice(vehicle_blueprints)  \u001b[38;5;66;03m# Select a random vehicle\u001b[39;00m\n\u001b[1;32m---> 31\u001b[0m     vehicle \u001b[38;5;241m=\u001b[39m \u001b[43mworld\u001b[49m\u001b[38;5;241;43m.\u001b[39;49m\u001b[43mspawn_actor\u001b[49m\u001b[43m(\u001b[49m\u001b[43mvehicle_bp\u001b[49m\u001b[43m,\u001b[49m\u001b[43m \u001b[49m\u001b[43msp\u001b[49m\u001b[43m)\u001b[49m\n\u001b[0;32m     32\u001b[0m     sl_parked_vehicles\u001b[38;5;241m.\u001b[39mappend(vehicle)\n\u001b[0;32m     33\u001b[0m     vehicle\u001b[38;5;241m.\u001b[39mset_simulate_physics(\u001b[38;5;28;01mTrue\u001b[39;00m)  \u001b[38;5;66;03m# Ensure physics is enabled\u001b[39;00m\n",
      "\u001b[1;31mRuntimeError\u001b[0m: Spawn failed because of collision at spawn position"
     ]
    }
   ],
   "source": [
    "# street light side parking spots\n",
    "spawn_points_sl = [\n",
    "    carla.Transform(\n",
    "    carla.Location(x=-50.468666, y=185, z=0.2),#, 7.642653\n",
    "    carla.Rotation(yaw=0)),\n",
    "    carla.Transform(\n",
    "    carla.Location(x=-50.468666, y=181, z=0.2),#, 7.642653\n",
    "    carla.Rotation(yaw=0)),\n",
    "    carla.Transform(\n",
    "    carla.Location(x=-50.468666, y=173, z=0.2),#, 7.642653\n",
    "    carla.Rotation(yaw=0)),\n",
    "    carla.Transform(\n",
    "    carla.Location(x=-50.468666, y=170, z=0.2),#, 7.642653\n",
    "    carla.Rotation(yaw=0)),\n",
    "    carla.Transform(\n",
    "    carla.Location(x=-50.468666, y=163, z=0.2),#, 7.642653\n",
    "    carla.Rotation(yaw=0)),\n",
    "    carla.Transform(\n",
    "    carla.Location(x=-50.468666, y=155, z=0.2),#, 7.642653\n",
    "    carla.Rotation(yaw=0)),\n",
    "    ]\n",
    "# prius_bp = blueprint_library.find('vehicle.toyota.prius')\n",
    "\n",
    "# Get all vehicle blueprints\n",
    "vehicle_blueprints = blueprint_library.filter('vehicle.*')\n",
    "\n",
    "# Spawn random vehicles at each spawn point\n",
    "sl_parked_vehicles = []\n",
    "for sp in spawn_points_sl:\n",
    "    vehicle_bp = random.choice(vehicle_blueprints)  # Select a random vehicle\n",
    "    vehicle = world.spawn_actor(vehicle_bp, sp)\n",
    "    sl_parked_vehicles.append(vehicle)\n",
    "    vehicle.set_simulate_physics(True)  # Ensure physics is enabled"
   ]
  },
  {
   "cell_type": "code",
   "execution_count": 8,
   "metadata": {},
   "outputs": [
    {
     "ename": "RuntimeError",
     "evalue": "Spawn failed because of collision at spawn position",
     "output_type": "error",
     "traceback": [
      "\u001b[1;31m---------------------------------------------------------------------------\u001b[0m",
      "\u001b[1;31mRuntimeError\u001b[0m                              Traceback (most recent call last)",
      "Cell \u001b[1;32mIn[8], line 23\u001b[0m\n\u001b[0;32m     21\u001b[0m \u001b[38;5;28;01mfor\u001b[39;00m sp \u001b[38;5;129;01min\u001b[39;00m spawn_points_bb:\n\u001b[0;32m     22\u001b[0m     vehicle_bp \u001b[38;5;241m=\u001b[39m random\u001b[38;5;241m.\u001b[39mchoice(vehicle_blueprints)  \u001b[38;5;66;03m# Select a random vehicle\u001b[39;00m\n\u001b[1;32m---> 23\u001b[0m     vehicle \u001b[38;5;241m=\u001b[39m \u001b[43mworld\u001b[49m\u001b[38;5;241;43m.\u001b[39;49m\u001b[43mspawn_actor\u001b[49m\u001b[43m(\u001b[49m\u001b[43mvehicle_bp\u001b[49m\u001b[43m,\u001b[49m\u001b[43m \u001b[49m\u001b[43msp\u001b[49m\u001b[43m)\u001b[49m\n\u001b[0;32m     24\u001b[0m     bb_parked_vehicles\u001b[38;5;241m.\u001b[39mappend(vehicle)\n\u001b[0;32m     25\u001b[0m     vehicle\u001b[38;5;241m.\u001b[39mset_simulate_physics(\u001b[38;5;28;01mTrue\u001b[39;00m)  \u001b[38;5;66;03m# Ensure physics is enabled\u001b[39;00m\n",
      "\u001b[1;31mRuntimeError\u001b[0m: Spawn failed because of collision at spawn position"
     ]
    }
   ],
   "source": [
    "# bill board + building side parking spots\n",
    "spawn_points_bb = [carla.Transform(\n",
    "    carla.Location(x=-67.468666, y=167.75, z=0.2),#, 7.642653\n",
    "    carla.Rotation(yaw=0)),\n",
    "carla.Transform(\n",
    "    carla.Location(x=-67.468666, y=187, z=0.2),#, 7.642653\n",
    "    carla.Rotation(yaw=0)),\n",
    "carla.Transform(\n",
    "    carla.Location(x=-67.468666, y=172.75, z=0.2),#, 7.642653\n",
    "    carla.Rotation(yaw=0)),\n",
    "carla.Transform(\n",
    "    carla.Location(x=-67.468666, y=177.75, z=0.2),#, 7.642653\n",
    "    carla.Rotation(yaw=0))]\n",
    "\n",
    "# prius_bp = blueprint_library.find('vehicle.toyota.prius')\n",
    "# Get all vehicle blueprints\n",
    "vehicle_blueprints = blueprint_library.filter('vehicle.*')\n",
    "\n",
    "# Spawn random vehicles at each spawn point\n",
    "bb_parked_vehicles = []\n",
    "for sp in spawn_points_bb:\n",
    "    vehicle_bp = random.choice(vehicle_blueprints)  # Select a random vehicle\n",
    "    vehicle = world.spawn_actor(vehicle_bp, sp)\n",
    "    bb_parked_vehicles.append(vehicle)\n",
    "    vehicle.set_simulate_physics(True)  # Ensure physics is enabled"
   ]
  },
  {
   "cell_type": "code",
   "execution_count": 9,
   "metadata": {},
   "outputs": [
    {
     "name": "stdout",
     "output_type": "stream",
     "text": [
      "Destroyed 0 vehicles\n",
      "Destroyed 0 vehicles\n"
     ]
    }
   ],
   "source": [
    "def custom_destroy(parked_vehicles):\n",
    "    for v in parked_vehicles:\n",
    "        if v.is_alive:\n",
    "            v.destroy()\n",
    "    print(f\"Destroyed {len(parked_vehicles)} vehicles\")\n",
    "    parked_vehicles.clear()\n",
    "\n",
    "custom_destroy(sl_parked_vehicles)\n",
    "custom_destroy(bb_parked_vehicles)"
   ]
  },
  {
   "cell_type": "code",
   "execution_count": 75,
   "metadata": {},
   "outputs": [],
   "source": [
    "# Spawn walkers\n",
    "walker_bp = blueprint_library.filter('walker.pedestrian.*')\n",
    "walker_bp = random.choice(walker_bp)\n",
    "sp_center = carla.Transform(\n",
    "    carla.Location(x=-58.468666, y=170, z=0.1),#, 7.642653\n",
    "    carla.Rotation(yaw=0))\n",
    "sp_center_right = carla.Transform(\n",
    "    carla.Location(x=-58.468666, y=160, z=0.2),#, 7.642653\n",
    "    carla.Rotation(yaw=0))\n",
    "sp_center_left = carla.Transform(\n",
    "    carla.Location(x=-58.468666, y=188, z=0.2),#, 7.642653\n",
    "    carla.Rotation(yaw=0))\n",
    "sp_upper_left = carla.Transform(\n",
    "    carla.Location(x=-67.468666, y=190, z=0.2),#, 7.642653\n",
    "    carla.Rotation(yaw=0))\n",
    "sp_upper_right2 = carla.Transform(\n",
    "    carla.Location(x=-67.468666, y=160, z=0.2),#, 7.642653\n",
    "    carla.Rotation(yaw=0))\n",
    "sp_upper_right1 = carla.Transform(\n",
    "    carla.Location(x=-67.468666, y=165, z=0.2),#, 7.642653\n",
    "    carla.Rotation(yaw=0))\n",
    "sp_lower_right2 = carla.Transform(\n",
    "    carla.Location(x=-45.468666, y=160, z=0.2),#, 7.642653\n",
    "    carla.Rotation(yaw=0))\n",
    "sp_lower_right1 = carla.Transform(\n",
    "    carla.Location(x=-45.468666, y=170, z=0.1),#, 7.642653\n",
    "    carla.Rotation(yaw=0))\n",
    "sp_sl_junction = carla.Transform(\n",
    "    carla.Location(x=-50.468666, y=168.5, z=0.2),#, 7.642653\n",
    "    carla.Rotation(yaw=0))\n",
    "walker = world.spawn_actor(walker_bp, sp_center)\n",
    "walker.set_simulate_physics(True)\n"
   ]
  },
  {
   "cell_type": "code",
   "execution_count": 74,
   "metadata": {},
   "outputs": [],
   "source": [
    "for walker in world.get_actors().filter('walker.pedestrian.*'):\n",
    "    walker.destroy()"
   ]
  },
  {
   "cell_type": "code",
   "execution_count": 76,
   "metadata": {},
   "outputs": [],
   "source": [
    "def walk_please(walker, traj):\n",
    "    walker_control = carla.WalkerControl()\n",
    "    stop = carla.WalkerControl(speed=0)\n",
    "    for i in range(len(traj)-1):\n",
    "        dir = traj[i+1] - traj[i]\n",
    "        dir.z = 0\n",
    "        dir = dir/max(dir.length(), 1e-6)\n",
    "        walker_control.speed = 1 + random.random()\n",
    "        walker_control.direction = dir\n",
    "        walker_control.jump = random.random() > 0.9\n",
    "        while(walker.get_location().distance(traj[i+1]) > 1):\n",
    "            walker.apply_control(walker_control)\n",
    "    walker.apply_control(stop)\n"
   ]
  },
  {
   "cell_type": "code",
   "execution_count": 65,
   "metadata": {},
   "outputs": [],
   "source": [
    "stop = carla.WalkerControl(speed=0)\n",
    "walker.apply_control(stop)"
   ]
  },
  {
   "cell_type": "code",
   "execution_count": 77,
   "metadata": {},
   "outputs": [],
   "source": [
    "center_to_upper_left = [sp_center.location, sp_center_left.location, sp_upper_left.location]\n",
    "center_to_lower_right = [sp_center.location, sp_sl_junction.location, sp_lower_right1.location, sp_lower_right2.location]\n",
    "walk_please(walker, center_to_lower_right)"
   ]
  },
  {
   "cell_type": "code",
   "execution_count": 26,
   "metadata": {},
   "outputs": [],
   "source": [
    "# AI walker controller\n",
    "# walker_controller_bp = world.get_blueprint_library().find('controller.ai.walker')\n",
    "# ai_controller = world.spawn_actor(walker_controller_bp, sp_center, walker)\n",
    "\n",
    "# ai_controller.start()\n",
    "# ai_controller.go_to_location(sp_center_right.location)\n",
    "# ai_controller.set_max_speed(1 + random.random())\n",
    "\n",
    "# time.sleep(20)\n",
    "\n",
    "# ai_controller.stop()\n",
    "# ai_controller.destroy()\n",
    "# walker.destroy()"
   ]
  },
  {
   "cell_type": "code",
   "execution_count": null,
   "metadata": {},
   "outputs": [],
   "source": []
  }
 ],
 "metadata": {
  "kernelspec": {
   "display_name": "Python 3.8.8 ('568env': venv)",
   "language": "python",
   "name": "python3"
  },
  "language_info": {
   "codemirror_mode": {
    "name": "ipython",
    "version": 3
   },
   "file_extension": ".py",
   "mimetype": "text/x-python",
   "name": "python",
   "nbconvert_exporter": "python",
   "pygments_lexer": "ipython3",
   "version": "3.8.8"
  },
  "orig_nbformat": 4,
  "vscode": {
   "interpreter": {
    "hash": "6e31d49530a91ce9fa30ca04b5d89d60407e94cc1c9e2609bf8b13d05bc70955"
   }
  }
 },
 "nbformat": 4,
 "nbformat_minor": 2
}
