{
 "cells": [
  {
   "cell_type": "code",
   "execution_count": null,
   "metadata": {},
   "outputs": [],
   "source": [
    "import carla\n",
    "import math\n",
    "import random"
   ]
  },
  {
   "cell_type": "code",
   "execution_count": null,
   "metadata": {},
   "outputs": [],
   "source": [
    "client = carla.Client('localhost', 2000)\n",
    "world = client.get_world()\n",
    "world_map = world.get_map()\n",
    "spawn_points = world_map.get_spawn_points()\n",
    "start_point = spawn_points[0]"
   ]
  },
  {
   "cell_type": "code",
   "execution_count": null,
   "metadata": {},
   "outputs": [],
   "source": [
    "# Get the blueprint of a black car \n",
    "blueprint_library = world.get_blueprint_library()\n",
    "vehicle_bp = random.choice(blueprint_library.filter('vehicle.toyota.prius'))\n",
    "vehicle_bp.set_attribute('color', '0,0,0')\n"
   ]
  },
  {
   "cell_type": "code",
   "execution_count": null,
   "metadata": {},
   "outputs": [],
   "source": [
    "# Spawn a vehicle on where I am looking at\n",
    "\n",
    "# first get where I am looking at\n",
    "spectator = world.get_spectator()\n",
    "spectator_transform = spectator.get_transform()\n",
    "location = spectator_transform.location\n",
    "rotation = spectator_transform.rotation\n",
    "\n",
    "\n",
    "distance_ahead = 10  # Spawn the car 10 meters in front\n",
    "yaw = math.radians(rotation.yaw)  # Convert yaw to radians\n",
    "\n",
    "spawn_location = carla.Location(\n",
    "    x=location.x + distance_ahead * math.cos(yaw),\n",
    "    y=location.y + distance_ahead * math.sin(yaw),\n",
    "    z=location.z  # Keep the Z-height same (adjust if needed)\n",
    ")\n",
    "\n",
    "vehicle = world.try_spawn_actor(vehicle_bp, start_point)\n",
    "spawn_transform = carla.Transform(spawn_location, rotation)\n",
    "\n",
    "# Spawn the vehicle\n",
    "jake = world.try_spawn_actor(vehicle_bp, spawn_transform)\n",
    "# Spawn a vehicle on where I am looking at"
   ]
  },
  {
   "cell_type": "code",
   "execution_count": null,
   "metadata": {},
   "outputs": [],
   "source": [
    "import cv2\n",
    "import numpy as np\n",
    "import threading\n",
    "\n",
    "# create the BEV camera above the parking lot \n",
    "camera_bp = blueprint_library.find('sensor.camera.rgb')\n",
    "camera_bp.set_attribute('image_size_x', '800')\n",
    "camera_bp.set_attribute('image_size_y', '600')\n",
    "camera_bp.set_attribute('fov', '90')  # Adjust FOV if needed\n",
    "\n",
    "bev_location = carla.Location(x=-58.686981, y=166.857986, z=24.152607) \n",
    "spectator_rotation = carla.Rotation(pitch=-90, yaw=-180, roll=0) \n",
    "\n",
    "# Create a transform using the given location and rotation\n",
    "bev_transform = carla.Transform(bev_location, spectator_rotation)\n",
    "# Spawn the camera at the spectator's position and orientation\n",
    "camera = world.spawn_actor(camera_bp, bev_transform)\n",
    "\n",
    "def process_image(image):\n",
    "    array = np.frombuffer(image.raw_data, dtype=np.uint8)\n",
    "    array = array.reshape((image.height, image.width, 4))  # Convert to 2D array\n",
    "    array = array[:, :, :3]  # Remove alpha channel\n",
    "    cv2.imshow(\"BEV\", array)\n",
    "    cv2.waitKey(1)\n",
    "    \n",
    "def display_camera_feed():\n",
    "    camera.listen(lambda image: process_image(image))\n",
    "\n",
    "# Start the display in a separate thread so it doesn't block the whole jupyter notebook\n",
    "camera_thread = threading.Thread(target=display_camera_feed)\n",
    "camera_thread.daemon = True  # Daemon thread will exit when the main program ends\n",
    "camera_thread.start()"
   ]
  },
  {
   "cell_type": "code",
   "execution_count": null,
   "metadata": {},
   "outputs": [],
   "source": [
    "jake.set_autopilot(True)\n"
   ]
  },
  {
   "cell_type": "code",
   "execution_count": null,
   "metadata": {},
   "outputs": [],
   "source": []
  }
 ],
 "metadata": {
  "language_info": {
   "name": "python"
  },
  "orig_nbformat": 4
 },
 "nbformat": 4,
 "nbformat_minor": 2
}
