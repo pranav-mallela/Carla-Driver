{
 "cells": [
  {
   "cell_type": "code",
   "execution_count": 2,
   "metadata": {},
   "outputs": [],
   "source": [
    "import carla\n",
    "import random\n",
    "\n",
    "# Connect to the client and retrieve the world object\n",
    "client = carla.Client('localhost', 2000)\n",
    "world = client.get_world()"
   ]
  },
  {
   "cell_type": "code",
   "execution_count": 3,
   "metadata": {},
   "outputs": [],
   "source": [
    "# Get the blueprint library and filter for the vehicle blueprints\n",
    "vehicle_blueprints = world.get_blueprint_library().filter('*vehicle*')\n",
    "my_map = world.get_map()\n",
    "# Get the map's spawn points\n",
    "spawn_points = world.get_map().get_spawn_points()"
   ]
  },
  {
   "cell_type": "markdown",
   "metadata": {},
   "source": [
    "Own code starts here."
   ]
  },
  {
   "cell_type": "code",
   "execution_count": 4,
   "metadata": {},
   "outputs": [],
   "source": [
    "my_car_bp = world.get_blueprint_library().find('vehicle.tesla.model3')"
   ]
  },
  {
   "cell_type": "code",
   "execution_count": 21,
   "metadata": {},
   "outputs": [],
   "source": [
    "ego = world.spawn_actor(blueprint=my_car_bp, transform=random.choice(spawn_points))\n",
    "collision_sensor_bp = world.get_blueprint_library().find('sensor.other.collision')\n",
    "cs_transform = carla.Transform(carla.Location(x=0, y=0, z=2))\n",
    "cs_sensor = world.spawn_actor(\n",
    "    collision_sensor_bp,\n",
    "    transform=cs_transform,\n",
    "    attach_to=ego\n",
    ")\n",
    "def on_collision(event):\n",
    "    actor_type = event.other_actor.type_id\n",
    "    impulse = event.normal_impulse\n",
    "    # print(f\"Collision with {actor_type} at impulse {impulse}\")\n",
    "\n",
    "cs_sensor.listen(on_collision)\n",
    "ego.set_autopilot(True)"
   ]
  },
  {
   "cell_type": "code",
   "execution_count": 27,
   "metadata": {},
   "outputs": [],
   "source": [
    "# Helper functions\n",
    "def drive_vehicle(vehicle, throttle=0.5, steer=0.0):\n",
    "    \"\"\"Apply throttle and steer to the vehicle.\"\"\"\n",
    "    control = carla.VehicleControl()\n",
    "    control.throttle = throttle\n",
    "    control.steer = steer\n",
    "    vehicle.apply_control(control)\n",
    "\n",
    "def stop_vehicle(vehicle):\n",
    "    \"\"\"Stop the vehicle.\"\"\"\n",
    "    control = carla.VehicleControl()\n",
    "    control.throttle = 0.0\n",
    "    control.brake = 1.0\n",
    "    vehicle.apply_control(control)"
   ]
  },
  {
   "cell_type": "code",
   "execution_count": 30,
   "metadata": {},
   "outputs": [],
   "source": [
    "ego.set_autopilot(False)\n",
    "stop_vehicle(ego)"
   ]
  },
  {
   "cell_type": "code",
   "execution_count": 28,
   "metadata": {},
   "outputs": [],
   "source": [
    "drive_vehicle(ego)"
   ]
  },
  {
   "cell_type": "code",
   "execution_count": 11,
   "metadata": {},
   "outputs": [],
   "source": [
    "import time"
   ]
  },
  {
   "cell_type": "code",
   "execution_count": 19,
   "metadata": {},
   "outputs": [
    {
     "name": "stdout",
     "output_type": "stream",
     "text": [
      "Cleaning up actors.\n"
     ]
    },
    {
     "ename": "KeyboardInterrupt",
     "evalue": "",
     "output_type": "error",
     "traceback": [
      "\u001b[1;31m---------------------------------------------------------------------------\u001b[0m",
      "\u001b[1;31mKeyboardInterrupt\u001b[0m                         Traceback (most recent call last)",
      "\u001b[1;32m<ipython-input-19-7ff986b2e91b>\u001b[0m in \u001b[0;36m<module>\u001b[1;34m\u001b[0m\n\u001b[0;32m     41\u001b[0m         \u001b[1;32melse\u001b[0m\u001b[1;33m:\u001b[0m\u001b[1;33m\u001b[0m\u001b[1;33m\u001b[0m\u001b[0m\n\u001b[0;32m     42\u001b[0m             \u001b[1;31m# Drive straight\u001b[0m\u001b[1;33m\u001b[0m\u001b[1;33m\u001b[0m\u001b[1;33m\u001b[0m\u001b[0m\n\u001b[1;32m---> 43\u001b[1;33m             \u001b[0mdrive_vehicle\u001b[0m\u001b[1;33m(\u001b[0m\u001b[0mego\u001b[0m\u001b[1;33m,\u001b[0m \u001b[0mthrottle\u001b[0m\u001b[1;33m=\u001b[0m\u001b[1;36m0.5\u001b[0m\u001b[1;33m,\u001b[0m \u001b[0msteer\u001b[0m\u001b[1;33m=\u001b[0m\u001b[1;36m0.0\u001b[0m\u001b[1;33m)\u001b[0m\u001b[1;33m\u001b[0m\u001b[1;33m\u001b[0m\u001b[0m\n\u001b[0m\u001b[0;32m     44\u001b[0m \u001b[1;33m\u001b[0m\u001b[0m\n\u001b[0;32m     45\u001b[0m \u001b[1;32mfinally\u001b[0m\u001b[1;33m:\u001b[0m\u001b[1;33m\u001b[0m\u001b[1;33m\u001b[0m\u001b[0m\n",
      "\u001b[1;31mKeyboardInterrupt\u001b[0m: "
     ]
    }
   ],
   "source": [
    "collision_detected = False\n",
    "# Modify the existing code to include better handling for reversing\n",
    "try:\n",
    "    while True:\n",
    "        if collision_detected:\n",
    "            # Stop the vehicle immediately\n",
    "            print(\"Collision detected. Stopping the vehicle.\")\n",
    "            stop_vehicle(ego)\n",
    "            time.sleep(1)  # Short pause after collision\n",
    "            \n",
    "            # Attempt to reverse\n",
    "            print(\"Reversing for 4 seconds...\")\n",
    "            start_time = time.time()\n",
    "            while time.time() - start_time < 4:\n",
    "                if collision_detected:  # Check for additional collisions while reversing\n",
    "                    print(\"Collision while reversing. Stopping.\")\n",
    "                    stop_vehicle(ego)\n",
    "                    break\n",
    "                ego.apply_control(carla.VehicleControl(throttle=0.6, reverse=True))  # Increase throttle to ensure movement\n",
    "            \n",
    "            # Stop and decide a random turn\n",
    "            print(\"Deciding on a random turn...\")\n",
    "            stop_vehicle(ego)\n",
    "            turn_direction = random.choice([-1, 1])  # -1 for left, 1 for right\n",
    "            print(f\"Turning {'left' if turn_direction == -1 else 'right'} for 5 seconds...\")\n",
    "            \n",
    "            # Turn for 5 seconds\n",
    "            start_time = time.time()\n",
    "            while time.time() - start_time < 5:\n",
    "                if collision_detected:  # Check for additional collisions\n",
    "                    print(\"Collision while turning. Stopping.\")\n",
    "                    stop_vehicle(ego)\n",
    "                    break\n",
    "                ego.apply_control(carla.VehicleControl(throttle=0.5, steer=turn_direction * 0.5))\n",
    "            \n",
    "            # Stop after turning\n",
    "            print(\"Resuming straight drive.\")\n",
    "            stop_vehicle(ego)\n",
    "            collision_detected = False  # Reset collision flag\n",
    "\n",
    "        else:\n",
    "            # Drive straight\n",
    "            drive_vehicle(ego, throttle=0.5, steer=0.0)\n",
    "\n",
    "finally:\n",
    "    # Cleanup\n",
    "    print(\"Cleaning up actors.\")\n",
    "    cs_sensor.destroy()\n",
    "    ego.destroy()\n"
   ]
  }
 ],
 "metadata": {
  "kernelspec": {
   "display_name": "Python 3.8.8 ('base')",
   "language": "python",
   "name": "python3"
  },
  "language_info": {
   "codemirror_mode": {
    "name": "ipython",
    "version": 3
   },
   "file_extension": ".py",
   "mimetype": "text/x-python",
   "name": "python",
   "nbconvert_exporter": "python",
   "pygments_lexer": "ipython3",
   "version": "3.8.8"
  },
  "orig_nbformat": 4,
  "vscode": {
   "interpreter": {
    "hash": "0944e941b8eaf7e2d5c0c45968a299f652cd46296f06120665dad39486ef7111"
   }
  }
 },
 "nbformat": 4,
 "nbformat_minor": 2
}
