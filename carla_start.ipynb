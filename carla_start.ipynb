{
 "cells": [
  {
   "cell_type": "code",
   "execution_count": 2,
   "metadata": {},
   "outputs": [
    {
     "name": "stdout",
     "output_type": "stream",
     "text": [
      "Collecting pygame\n",
      "  Downloading pygame-2.6.1-cp38-cp38-win_amd64.whl (10.6 MB)\n",
      "Requirement already satisfied: numpy in c:\\users\\prana\\anaconda3\\lib\\site-packages (1.20.1)\n",
      "Collecting carla\n",
      "  Downloading carla-0.9.15-cp38-cp38-win_amd64.whl (4.9 MB)\n",
      "Installing collected packages: pygame, carla\n",
      "Successfully installed carla-0.9.15 pygame-2.6.1\n"
     ]
    }
   ],
   "source": [
    "!pip install pygame numpy carla"
   ]
  },
  {
   "cell_type": "code",
   "execution_count": 3,
   "metadata": {},
   "outputs": [
    {
     "ename": "RuntimeError",
     "evalue": "time-out of 5000ms while waiting for the simulator, make sure the simulator is ready and connected to 141.213.126.105:2000",
     "output_type": "error",
     "traceback": [
      "\u001b[1;31m---------------------------------------------------------------------------\u001b[0m",
      "\u001b[1;31mRuntimeError\u001b[0m                              Traceback (most recent call last)",
      "\u001b[1;32m<ipython-input-3-895ae8742a03>\u001b[0m in \u001b[0;36m<module>\u001b[1;34m\u001b[0m\n\u001b[0;32m      4\u001b[0m \u001b[1;31m# Connect to the client and retrieve the world object\u001b[0m\u001b[1;33m\u001b[0m\u001b[1;33m\u001b[0m\u001b[1;33m\u001b[0m\u001b[0m\n\u001b[0;32m      5\u001b[0m \u001b[0mclient\u001b[0m \u001b[1;33m=\u001b[0m \u001b[0mcarla\u001b[0m\u001b[1;33m.\u001b[0m\u001b[0mClient\u001b[0m\u001b[1;33m(\u001b[0m\u001b[1;34m'141.213.126.105'\u001b[0m\u001b[1;33m,\u001b[0m \u001b[1;36m2000\u001b[0m\u001b[1;33m)\u001b[0m\u001b[1;33m\u001b[0m\u001b[1;33m\u001b[0m\u001b[0m\n\u001b[1;32m----> 6\u001b[1;33m \u001b[0mworld\u001b[0m \u001b[1;33m=\u001b[0m \u001b[0mclient\u001b[0m\u001b[1;33m.\u001b[0m\u001b[0mget_world\u001b[0m\u001b[1;33m(\u001b[0m\u001b[1;33m)\u001b[0m\u001b[1;33m\u001b[0m\u001b[1;33m\u001b[0m\u001b[0m\n\u001b[0m",
      "\u001b[1;31mRuntimeError\u001b[0m: time-out of 5000ms while waiting for the simulator, make sure the simulator is ready and connected to 141.213.126.105:2000"
     ]
    }
   ],
   "source": [
    "import carla\n",
    "import random\n",
    "\n",
    "# Connect to the client and retrieve the world object\n",
    "client = carla.Client('141.213.126.105', 2000)\n",
    "world = client.get_world()"
   ]
  },
  {
   "cell_type": "code",
   "execution_count": 2,
   "metadata": {},
   "outputs": [],
   "source": [
    "# Retrieve the spectator object\n",
    "spectator = world.get_spectator()\n",
    "\n",
    "# Get the location and rotation of the spectator through its transform\n",
    "transform = spectator.get_transform()\n",
    "\n",
    "location = transform.location\n",
    "rotation = transform.rotation\n",
    "\n",
    "# Set the spectator with an empty transform\n",
    "spectator.set_transform(carla.Transform())\n",
    "# This will set the spectator at the origin of the map, with 0 degrees\n",
    "# pitch, yaw and roll - a good way to orient yourself in the map"
   ]
  },
  {
   "cell_type": "code",
   "execution_count": 3,
   "metadata": {},
   "outputs": [],
   "source": [
    "# Get the blueprint library and filter for the vehicle blueprints\n",
    "vehicle_blueprints = world.get_blueprint_library().filter('*vehicle*')"
   ]
  },
  {
   "cell_type": "code",
   "execution_count": 4,
   "metadata": {},
   "outputs": [],
   "source": [
    "# Get the map's spawn points\n",
    "spawn_points = world.get_map().get_spawn_points()\n",
    "\n",
    "# Spawn 50 vehicles randomly distributed throughout the map \n",
    "# for each spawn point, we choose a random vehicle from the blueprint library\n",
    "for i in range(0,50):\n",
    "    world.try_spawn_actor(random.choice(vehicle_blueprints), random.choice(spawn_points))"
   ]
  },
  {
   "cell_type": "code",
   "execution_count": 5,
   "metadata": {},
   "outputs": [],
   "source": [
    "ego_vehicle = world.spawn_actor(random.choice(vehicle_blueprints), random.choice(spawn_points))"
   ]
  },
  {
   "cell_type": "code",
   "execution_count": 6,
   "metadata": {},
   "outputs": [],
   "source": [
    "# Create a transform to place the camera on top of the vehicle\n",
    "camera_init_trans = carla.Transform(carla.Location(z=1.5))\n",
    "\n",
    "# We create the camera through a blueprint that defines its properties\n",
    "camera_bp = world.get_blueprint_library().find('sensor.camera.rgb')\n",
    "\n",
    "# We spawn the camera and attach it to our ego vehicle\n",
    "camera = world.spawn_actor(camera_bp, camera_init_trans, attach_to=ego_vehicle)"
   ]
  },
  {
   "cell_type": "code",
   "execution_count": 7,
   "metadata": {},
   "outputs": [],
   "source": [
    "# Start camera with PyGame callback\n",
    "camera.listen(lambda image: image.save_to_disk('out/%06d.png' % image.frame))"
   ]
  },
  {
   "cell_type": "code",
   "execution_count": 11,
   "metadata": {},
   "outputs": [],
   "source": [
    "for vehicle in world.get_actors().filter('*vehicle*'):\n",
    "    vehicle.set_autopilot(True)"
   ]
  },
  {
   "cell_type": "code",
   "execution_count": 9,
   "metadata": {},
   "outputs": [],
   "source": [
    "camera.stop()"
   ]
  },
  {
   "cell_type": "markdown",
   "metadata": {},
   "source": [
    "Own code starts here."
   ]
  },
  {
   "cell_type": "code",
   "execution_count": 32,
   "metadata": {},
   "outputs": [],
   "source": [
    "my_car_bp = world.get_blueprint_library().find('vehicle.tesla.model3')\n",
    "my_map = world.get_map()\n",
    "spawn_pts = my_map.get_spawn_points()"
   ]
  },
  {
   "cell_type": "code",
   "execution_count": 34,
   "metadata": {},
   "outputs": [],
   "source": [
    "ego = world.spawn_actor(blueprint=my_car_bp, transform=random.choice(spawn_pts))\n",
    "ego.set_autopilot(True)"
   ]
  },
  {
   "cell_type": "code",
   "execution_count": null,
   "metadata": {},
   "outputs": [],
   "source": []
  }
 ],
 "metadata": {
  "kernelspec": {
   "display_name": "base",
   "language": "python",
   "name": "python3"
  },
  "language_info": {
   "codemirror_mode": {
    "name": "ipython",
    "version": 3
   },
   "file_extension": ".py",
   "mimetype": "text/x-python",
   "name": "python",
   "nbconvert_exporter": "python",
   "pygments_lexer": "ipython3",
   "version": "3.8.8"
  },
  "orig_nbformat": 4
 },
 "nbformat": 4,
 "nbformat_minor": 2
}
