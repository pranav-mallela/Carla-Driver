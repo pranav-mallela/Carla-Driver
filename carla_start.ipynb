{
 "cells": [
  {
   "cell_type": "code",
   "execution_count": 2,
   "metadata": {},
   "outputs": [
    {
     "name": "stdout",
     "output_type": "stream",
     "text": [
      "Collecting pygame\n",
      "  Downloading pygame-2.6.1-cp38-cp38-win_amd64.whl (10.6 MB)\n",
      "Requirement already satisfied: numpy in c:\\users\\prana\\anaconda3\\lib\\site-packages (1.20.1)\n",
      "Collecting carla\n",
      "  Downloading carla-0.9.15-cp38-cp38-win_amd64.whl (4.9 MB)\n",
      "Installing collected packages: pygame, carla\n",
      "Successfully installed carla-0.9.15 pygame-2.6.1\n"
     ]
    }
   ],
   "source": [
    "!pip install pygame numpy carla"
   ]
  },
  {
   "cell_type": "code",
   "execution_count": 1,
   "metadata": {},
   "outputs": [],
   "source": [
    "!\"N:\\Programs\\Git\\bin\\git.exe\" config --global user.email \"pranavmallela2020@gmail.com\"\n",
    "!\"N:\\Programs\\Git\\bin\\git.exe\" config --global user.name \"Pranav Mallela\""
   ]
  },
  {
   "cell_type": "code",
   "execution_count": 1,
   "metadata": {},
   "outputs": [
    {
     "name": "stdout",
     "output_type": "stream",
     "text": [
      "Parked vehicle spawned at: Location(x=-1.848311, y=-84.732613, z=0.275307)\n",
      "Parked vehicle spawned at: Location(x=-117.493454, y=-0.721493, z=0.275307)\n",
      "Parked vehicle spawned at: Location(x=-74.387177, y=28.234657, z=0.350000)\n",
      "Parked vehicle spawned at: Location(x=-74.387177, y=61.931622, z=1.207297)\n",
      "Parked vehicle spawned at: Location(x=149.592041, y=7.871150, z=0.275307)\n",
      "Parked vehicle spawned at: Location(x=129.127945, y=7.871150, z=0.275307)\n",
      "Parked vehicle spawned at: Location(x=183.285294, y=8.808762, z=0.275307)\n",
      "20 vehicles spawned. Press 'q' to stop.\n"
     ]
    },
    {
     "ename": "StopIteration",
     "evalue": "",
     "output_type": "error",
     "traceback": [
      "\u001b[1;31m---------------------------------------------------------------------------\u001b[0m",
      "\u001b[1;31mStopIteration\u001b[0m                             Traceback (most recent call last)",
      "Cell \u001b[1;32mIn[1], line 84\u001b[0m, in \u001b[0;36mmain.<locals>.process_image\u001b[1;34m(image)\u001b[0m\n\u001b[0;32m     82\u001b[0m \u001b[38;5;66;03m# Close the window when 'q' is pressed\u001b[39;00m\n\u001b[0;32m     83\u001b[0m \u001b[38;5;28;01mif\u001b[39;00m cv2\u001b[38;5;241m.\u001b[39mwaitKey(\u001b[38;5;241m1\u001b[39m) \u001b[38;5;241m&\u001b[39m \u001b[38;5;241m0xFF\u001b[39m \u001b[38;5;241m==\u001b[39m \u001b[38;5;28mord\u001b[39m(\u001b[38;5;124m'\u001b[39m\u001b[38;5;124mq\u001b[39m\u001b[38;5;124m'\u001b[39m):\n\u001b[1;32m---> 84\u001b[0m     \u001b[38;5;28;01mraise\u001b[39;00m \u001b[38;5;167;01mStopIteration\u001b[39;00m\n",
      "\u001b[1;31mStopIteration\u001b[0m: "
     ]
    },
    {
     "ename": "StopIteration",
     "evalue": "",
     "output_type": "error",
     "traceback": [
      "\u001b[1;31m---------------------------------------------------------------------------\u001b[0m",
      "\u001b[1;31mStopIteration\u001b[0m                             Traceback (most recent call last)",
      "Cell \u001b[1;32mIn[1], line 84\u001b[0m, in \u001b[0;36mmain.<locals>.process_image\u001b[1;34m(image)\u001b[0m\n\u001b[0;32m     82\u001b[0m \u001b[38;5;66;03m# Close the window when 'q' is pressed\u001b[39;00m\n\u001b[0;32m     83\u001b[0m \u001b[38;5;28;01mif\u001b[39;00m cv2\u001b[38;5;241m.\u001b[39mwaitKey(\u001b[38;5;241m1\u001b[39m) \u001b[38;5;241m&\u001b[39m \u001b[38;5;241m0xFF\u001b[39m \u001b[38;5;241m==\u001b[39m \u001b[38;5;28mord\u001b[39m(\u001b[38;5;124m'\u001b[39m\u001b[38;5;124mq\u001b[39m\u001b[38;5;124m'\u001b[39m):\n\u001b[1;32m---> 84\u001b[0m     \u001b[38;5;28;01mraise\u001b[39;00m \u001b[38;5;167;01mStopIteration\u001b[39;00m\n",
      "\u001b[1;31mStopIteration\u001b[0m: "
     ]
    },
    {
     "ename": "",
     "evalue": "",
     "output_type": "error",
     "traceback": [
      "\u001b[1;31mCanceled future for execute_request message before replies were done"
     ]
    },
    {
     "ename": "",
     "evalue": "",
     "output_type": "error",
     "traceback": [
      "The Kernel crashed while executing code in the the current cell or a previous cell. Please review the code in the cell(s) to identify a possible cause of the failure. Click <a href='https://aka.ms/vscodeJupyterKernelCrash'>here</a> for more info. View Jupyter <a href='command:jupyter.viewOutput'>log</a> for further details."
     ]
    }
   ],
   "source": [
    "import carla\n",
    "import random\n",
    "import time\n",
    "import cv2\n",
    "import numpy as np\n",
    "\n",
    "# Initialize the frame counter globally\n",
    "frame_counter = 0\n",
    "\n",
    "def main():\n",
    "    global frame_counter  # Ensure that we are modifying the global frame_counter\n",
    "\n",
    "    # Connect to CARLA\n",
    "    client = carla.Client('localhost', 2000)\n",
    "    client.set_timeout(5.0)\n",
    "\n",
    "    # Load a map\n",
    "    world = client.get_world()\n",
    "\n",
    "    # Enable synchronous mode\n",
    "    settings = world.get_settings()\n",
    "    settings.synchronous_mode = True\n",
    "    settings.fixed_delta_seconds = 0.1  # Increased delta time\n",
    "    world.apply_settings(settings)\n",
    "\n",
    "    # Get blueprint library\n",
    "    blueprint_library = world.get_blueprint_library()\n",
    "\n",
    "    # Spawn the ego vehicle (Tesla Model 3)\n",
    "    tesla_bp = blueprint_library.find('vehicle.tesla.model3')\n",
    "    tesla_bp.set_attribute('color', '255,0,0')\n",
    "\n",
    "    # Deterministic spawn point for ego vehicle\n",
    "    spawn_points = world.get_map().get_spawn_points()\n",
    "    ego_spawn_point = spawn_points[0]\n",
    "    ego_vehicle = world.spawn_actor(tesla_bp, ego_spawn_point)\n",
    "\n",
    "    # Set ego vehicle to autopilot\n",
    "    ego_vehicle.set_autopilot(True)\n",
    "\n",
    "    # Initialize BEV camera with reduced resolution\n",
    "    camera_bp = blueprint_library.find('sensor.camera.rgb')\n",
    "    camera_bp.set_attribute('image_size_x', '640')\n",
    "    camera_bp.set_attribute('image_size_y', '480')\n",
    "    camera_bp.set_attribute('fov', '90')\n",
    "\n",
    "    # Set camera transform (Bird's eye view)\n",
    "    camera_transform = carla.Transform(carla.Location(z=15), carla.Rotation(pitch=-90))\n",
    "    bev_camera = world.spawn_actor(camera_bp, camera_transform, attach_to=ego_vehicle)\n",
    "\n",
    "    def process_image(image):\n",
    "        global frame_counter  # Use the global frame_counter\n",
    "        frame_counter += 1\n",
    "        if frame_counter % 2 != 0:  # Display every other frame\n",
    "            return\n",
    "\n",
    "        # Convert image to array\n",
    "        array = np.frombuffer(image.raw_data, dtype=np.uint8)\n",
    "        array = array.reshape((image.height, image.width, 4))[:, :, :3]\n",
    "\n",
    "        # Make the image writable for OpenCV operations\n",
    "        array = np.ascontiguousarray(array)\n",
    "\n",
    "        # Fetch speed and steering angle\n",
    "        velocity = ego_vehicle.get_velocity()\n",
    "        speed = (3.6 * (velocity.x**2 + velocity.y**2 + velocity.z**2) ** 0.5)  # Convert m/s to km/h\n",
    "        control = ego_vehicle.get_control()\n",
    "        steering_angle = control.steer\n",
    "\n",
    "        # Display speed and steering angle on the image\n",
    "        text_speed = f\"Speed: {speed:.2f} km/h\"\n",
    "        text_steer = f\"Steering: {steering_angle:.2f} rad\"\n",
    "        cv2.putText(array, text_speed, (10, 30), cv2.FONT_HERSHEY_SIMPLEX, 1, (255, 255, 255), 2)\n",
    "        cv2.putText(array, text_steer, (10, 70), cv2.FONT_HERSHEY_SIMPLEX, 1, (255, 255, 255), 2)\n",
    "\n",
    "        # Resize the image to save memory (optional)\n",
    "        array = cv2.resize(array, (400, 300))\n",
    "\n",
    "        # Show the image\n",
    "        cv2.imshow('BEV Camera View', array)\n",
    "\n",
    "        # Close the window when 'q' is pressed\n",
    "        if cv2.waitKey(1) & 0xFF == ord('q'):\n",
    "            raise StopIteration\n",
    "\n",
    "    bev_camera.listen(process_image)\n",
    "\n",
    "    # Spawn parked vehicles along the side of the road (more vehicles, and correct placement)\n",
    "    parked_vehicles = []\n",
    "    num_vehicles = 20  # Increased number of vehicles\n",
    "    parking_spots = spawn_points[5:25:2]  # Using side-of-road spawn points\n",
    "\n",
    "    for idx, point in enumerate(parking_spots[:num_vehicles]):\n",
    "        if idx % 4 == 0:\n",
    "            continue  # Leave every 4th spot open (for parking spots)\n",
    "        vehicle_bp = random.choice(blueprint_library.filter('vehicle.*'))\n",
    "        vehicle_bp.set_attribute('role_name', 'parked')\n",
    "        point.location.y += 2.5  # Move vehicles to the side of the road\n",
    "        vehicle = world.try_spawn_actor(vehicle_bp, point)\n",
    "        if vehicle:\n",
    "            parked_vehicles.append(vehicle)\n",
    "            print(f\"Parked vehicle spawned at: {point.location}\")\n",
    "\n",
    "    print(f\"{num_vehicles} vehicles spawned. Press 'q' to stop.\")\n",
    "\n",
    "    try:\n",
    "        while True:\n",
    "            world.tick()\n",
    "            time.sleep(0.1)  # Simulate a slower update rate to save memory\n",
    "    except StopIteration:\n",
    "        print(\"Stopping simulation...\")\n",
    "    finally:\n",
    "        ego_vehicle.destroy()\n",
    "        bev_camera.stop()\n",
    "        bev_camera.destroy()\n",
    "        for car in parked_vehicles:\n",
    "            if car is not None:\n",
    "                car.destroy()\n",
    "        cv2.destroyAllWindows()\n",
    "\n",
    "if __name__ == '__main__':\n",
    "    main()\n"
   ]
  }
 ],
 "metadata": {
  "kernelspec": {
   "display_name": "Python 3.8.8 ('568env': venv)",
   "language": "python",
   "name": "python3"
  },
  "language_info": {
   "codemirror_mode": {
    "name": "ipython",
    "version": 3
   },
   "file_extension": ".py",
   "mimetype": "text/x-python",
   "name": "python",
   "nbconvert_exporter": "python",
   "pygments_lexer": "ipython3",
   "version": "3.8.8"
  },
  "orig_nbformat": 4,
  "vscode": {
   "interpreter": {
    "hash": "6e31d49530a91ce9fa30ca04b5d89d60407e94cc1c9e2609bf8b13d05bc70955"
   }
  }
 },
 "nbformat": 4,
 "nbformat_minor": 2
}
